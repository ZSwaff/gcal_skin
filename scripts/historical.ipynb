{
 "cells": [
  {
   "cell_type": "code",
   "execution_count": null,
   "metadata": {},
   "outputs": [],
   "source": [
    "# Analyze Historical Calendar Events"
   ]
  },
  {
   "cell_type": "code",
   "execution_count": 32,
   "metadata": {},
   "outputs": [],
   "source": [
    "import os\n",
    "import sys\n",
    "import json\n",
    "import csv\n",
    "from datetime import datetime\n",
    "from pytz import timezone\n",
    "from importlib import import_module\n",
    "\n",
    "import pandas as pd\n",
    "\n",
    "sys.path.append(os.path.abspath('../src'))\n",
    "from util import parse_dt_to_utc\n",
    "from gcal.util import get_client\n",
    "from event import from_gcal_events"
   ]
  },
  {
   "cell_type": "code",
   "execution_count": 33,
   "metadata": {},
   "outputs": [],
   "source": [
    "USERNAME = 'zack@plenty.ag'\n",
    "START_DT = datetime(2016, 6, 13)\n",
    "END_DT = datetime(2021, 8, 27)\n",
    "LOCAL_TZ = timezone('America/Los_Angeles')\n",
    "\n",
    "START_DT_STR = START_DT.isoformat() + 'Z'\n",
    "END_DT_STR = END_DT.isoformat() + 'Z'"
   ]
  },
  {
   "cell_type": "code",
   "execution_count": 27,
   "metadata": {},
   "outputs": [],
   "source": [
    "CACHE_PATH = 'PLENTY_EVENT_CACHE.csv'"
   ]
  },
  {
   "cell_type": "code",
   "execution_count": 28,
   "metadata": {},
   "outputs": [
    {
     "name": "stdout",
     "output_type": "stream",
     "text": [
      "Days: 1263\n",
      "Evts: 5395\n",
      "Cols: Index(['originalStartTime', 'status', 'reminders', 'creator', 'id', 'kind',\n",
      "       'description', 'privateCopy', 'recurringEventId', 'updated',\n",
      "       'attachments', 'etag', 'guestsCanInviteOthers', 'transparency',\n",
      "       'created', 'iCalUID', 'guestsCanSeeOtherGuests', 'attendees',\n",
      "       'location', 'guestsCanModify', 'organizer', 'extendedProperties',\n",
      "       'visibility', 'end', 'start', 'conferenceData', 'sequence', 'summary',\n",
      "       'htmlLink', 'hangoutLink'],\n",
      "      dtype='object')\n"
     ]
    }
   ],
   "source": [
    "# load events from cache or from gcal\n",
    "\n",
    "def load_events():\n",
    "    if not os.path.exists(CACHE_PATH):\n",
    "        calendar = get_client()\n",
    "\n",
    "        all_results = []\n",
    "        req = calendar.events().list(\n",
    "            calendarId='zack@plenty.ag',\n",
    "            timeMin=START_DT_STR,\n",
    "            timeMax=END_DT_STR,\n",
    "            singleEvents=True,\n",
    "            orderBy='startTime'\n",
    "        )\n",
    "        while req:\n",
    "            res = req.execute()\n",
    "            all_results += res['items']\n",
    "            req = calendar.events().list_next(req, res)\n",
    "            print(all_results[-1].get('start', {}).get('dateTime'))\n",
    "\n",
    "        headers = set()\n",
    "        for e in all_results:\n",
    "            headers |= e.keys()\n",
    "\n",
    "        with open(CACHE_PATH, 'w+') as fout:\n",
    "            writer = csv.DictWriter(fout, fieldnames=headers)\n",
    "            writer.writeheader()\n",
    "            for e in all_results:\n",
    "                writer.writerow(e)\n",
    "\n",
    "    return pd.read_csv(CACHE_PATH)\n",
    "\n",
    "gcal_events = load_events()\n",
    "\n",
    "print('Days:', (END_DT - START_DT).days)\n",
    "print('Evts:', len(gcal_events))\n",
    "print('Cols:', gcal_events.columns)"
   ]
  },
  {
   "cell_type": "code",
   "execution_count": 36,
   "metadata": {},
   "outputs": [
    {
     "data": {
      "text/html": [
       "<div>\n",
       "<style scoped>\n",
       "    .dataframe tbody tr th:only-of-type {\n",
       "        vertical-align: middle;\n",
       "    }\n",
       "\n",
       "    .dataframe tbody tr th {\n",
       "        vertical-align: top;\n",
       "    }\n",
       "\n",
       "    .dataframe thead th {\n",
       "        text-align: right;\n",
       "    }\n",
       "</style>\n",
       "<table border=\"1\" class=\"dataframe\">\n",
       "  <thead>\n",
       "    <tr style=\"text-align: right;\">\n",
       "      <th></th>\n",
       "      <th>endDtStr</th>\n",
       "      <th>isOneOnOne</th>\n",
       "      <th>location</th>\n",
       "      <th>needsLocation</th>\n",
       "      <th>organizerEmail</th>\n",
       "      <th>startDtStr</th>\n",
       "      <th>title</th>\n",
       "      <th>userAcceptanceStr</th>\n",
       "      <th>userHasConflict</th>\n",
       "      <th>userIsOrganizer</th>\n",
       "    </tr>\n",
       "  </thead>\n",
       "  <tbody>\n",
       "    <tr>\n",
       "      <th>0</th>\n",
       "      <td>2016-06-28T20:30:00+00:00</td>\n",
       "      <td>False</td>\n",
       "      <td>Wilson Sonsini Goodrich &amp; Rosati, 650 Page Mil...</td>\n",
       "      <td>False</td>\n",
       "      <td>nate@seejanefarm.com</td>\n",
       "      <td>2016-06-28T19:00:00+00:00</td>\n",
       "      <td>HOLD: CS Convo</td>\n",
       "      <td>ACCEPTED</td>\n",
       "      <td>False</td>\n",
       "      <td>False</td>\n",
       "    </tr>\n",
       "    <tr>\n",
       "      <th>1</th>\n",
       "      <td>2016-07-01T17:00:00+00:00</td>\n",
       "      <td>False</td>\n",
       "      <td>1050 College Ave, Menlo Park, CA, 94025, Unite...</td>\n",
       "      <td>False</td>\n",
       "      <td>nate@seejanefarm.com</td>\n",
       "      <td>2016-07-01T16:00:00+00:00</td>\n",
       "      <td>Closet Farm Setup</td>\n",
       "      <td>ACCEPTED</td>\n",
       "      <td>False</td>\n",
       "      <td>False</td>\n",
       "    </tr>\n",
       "    <tr>\n",
       "      <th>2</th>\n",
       "      <td>2016-07-07T19:00:00+00:00</td>\n",
       "      <td>False</td>\n",
       "      <td>1050 College Ave, Menlo Park, CA, 94025</td>\n",
       "      <td>False</td>\n",
       "      <td>zack.swafford@plenty.ag</td>\n",
       "      <td>2016-07-07T16:00:00+00:00</td>\n",
       "      <td>Progress Meeting</td>\n",
       "      <td>ACCEPTED</td>\n",
       "      <td>False</td>\n",
       "      <td>True</td>\n",
       "    </tr>\n",
       "    <tr>\n",
       "      <th>3</th>\n",
       "      <td>2016-07-07T20:00:00+00:00</td>\n",
       "      <td>False</td>\n",
       "      <td>Palo Alto TBD</td>\n",
       "      <td>False</td>\n",
       "      <td>nate@seejanefarm.com</td>\n",
       "      <td>2016-07-07T19:00:00+00:00</td>\n",
       "      <td>Lunch</td>\n",
       "      <td>ACCEPTED</td>\n",
       "      <td>False</td>\n",
       "      <td>False</td>\n",
       "    </tr>\n",
       "    <tr>\n",
       "      <th>4</th>\n",
       "      <td>2016-07-11T22:00:00+00:00</td>\n",
       "      <td>False</td>\n",
       "      <td>Participant Dial-In: +1.860.970.0010,100650558</td>\n",
       "      <td>False</td>\n",
       "      <td>zack.swafford@plenty.ag</td>\n",
       "      <td>2016-07-11T21:00:00+00:00</td>\n",
       "      <td>SJF-Bright CS Meetup</td>\n",
       "      <td>ACCEPTED</td>\n",
       "      <td>False</td>\n",
       "      <td>True</td>\n",
       "    </tr>\n",
       "  </tbody>\n",
       "</table>\n",
       "</div>"
      ],
      "text/plain": [
       "                    endDtStr  isOneOnOne  \\\n",
       "0  2016-06-28T20:30:00+00:00       False   \n",
       "1  2016-07-01T17:00:00+00:00       False   \n",
       "2  2016-07-07T19:00:00+00:00       False   \n",
       "3  2016-07-07T20:00:00+00:00       False   \n",
       "4  2016-07-11T22:00:00+00:00       False   \n",
       "\n",
       "                                            location  needsLocation  \\\n",
       "0  Wilson Sonsini Goodrich & Rosati, 650 Page Mil...          False   \n",
       "1  1050 College Ave, Menlo Park, CA, 94025, Unite...          False   \n",
       "2            1050 College Ave, Menlo Park, CA, 94025          False   \n",
       "3                                      Palo Alto TBD          False   \n",
       "4     Participant Dial-In: +1.860.970.0010,100650558          False   \n",
       "\n",
       "            organizerEmail                 startDtStr                 title  \\\n",
       "0     nate@seejanefarm.com  2016-06-28T19:00:00+00:00        HOLD: CS Convo   \n",
       "1     nate@seejanefarm.com  2016-07-01T16:00:00+00:00     Closet Farm Setup   \n",
       "2  zack.swafford@plenty.ag  2016-07-07T16:00:00+00:00      Progress Meeting   \n",
       "3     nate@seejanefarm.com  2016-07-07T19:00:00+00:00                 Lunch   \n",
       "4  zack.swafford@plenty.ag  2016-07-11T21:00:00+00:00  SJF-Bright CS Meetup   \n",
       "\n",
       "  userAcceptanceStr  userHasConflict  userIsOrganizer  \n",
       "0          ACCEPTED            False            False  \n",
       "1          ACCEPTED            False            False  \n",
       "2          ACCEPTED            False             True  \n",
       "3          ACCEPTED            False            False  \n",
       "4          ACCEPTED            False             True  "
      ]
     },
     "execution_count": 36,
     "metadata": {},
     "output_type": "execute_result"
    }
   ],
   "source": [
    "# transform gcal events to nice event models, and those to dataframe\n",
    "\n",
    "event_models = from_gcal_events(gcal_events, 'zack.swafford@plenty.ag')\n",
    "events = pd.DataFrame([e.serialize() for e in event_models])\n",
    "\n",
    "events.head()"
   ]
  },
  {
   "cell_type": "code",
   "execution_count": 37,
   "metadata": {},
   "outputs": [
    {
     "name": "stdout",
     "output_type": "stream",
     "text": [
      "2016-06-28 19:00:00+00:00\n"
     ]
    },
    {
     "data": {
      "text/plain": [
       "{}"
      ]
     },
     "execution_count": 37,
     "metadata": {},
     "output_type": "execute_result"
    }
   ],
   "source": [
    "def extract_dt_props(dt_str):\n",
    "    dt = parse_dt_to_utc(dt_str)\n",
    "    dt_local = dt.astimezone(LOCAL_TZ)\n",
    "    # todo return all sorts of things like year, month, month in year, etc.\n",
    "    return {\n",
    "\n",
    "    }\n",
    "\n",
    "# todo remove to stop testing\n",
    "extract_dt_props(events.loc[0, 'startDtStr'])\n",
    "\n",
    "# todo add this info to the DF for start at least\n",
    "# events.apply(lambda x: extract_dt_props(x['startDtStr']), axis=1).head()"
   ]
  },
  {
   "cell_type": "code",
   "execution_count": null,
   "metadata": {},
   "outputs": [],
   "source": []
  }
 ],
 "metadata": {
  "kernelspec": {
   "display_name": "Python 3",
   "language": "python",
   "name": "python3"
  },
  "language_info": {
   "codemirror_mode": {
    "name": "ipython",
    "version": 3
   },
   "file_extension": ".py",
   "mimetype": "text/x-python",
   "name": "python",
   "nbconvert_exporter": "python",
   "pygments_lexer": "ipython3",
   "version": "3.7.4"
  }
 },
 "nbformat": 4,
 "nbformat_minor": 2
}
